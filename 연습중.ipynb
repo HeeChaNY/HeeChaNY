{
  "nbformat": 4,
  "nbformat_minor": 0,
  "metadata": {
    "colab": {
      "name": "Untitled3.ipynb",
      "provenance": [],
      "authorship_tag": "ABX9TyOoTIRhwYX22kvwEmxzrboe",
      "include_colab_link": true
    },
    "kernelspec": {
      "name": "python3",
      "display_name": "Python 3"
    },
    "language_info": {
      "name": "python"
    }
  },
  "cells": [
    {
      "cell_type": "markdown",
      "metadata": {
        "id": "view-in-github",
        "colab_type": "text"
      },
      "source": [
        "<a href=\"https://colab.research.google.com/github/HeeChaNY/HeeChaNY/blob/main/%EC%97%B0%EC%8A%B5%EC%A4%91.ipynb\" target=\"_parent\"><img src=\"https://colab.research.google.com/assets/colab-badge.svg\" alt=\"Open In Colab\"/></a>"
      ]
    },
    {
      "cell_type": "code",
      "source": [
        "!pip install gradio\n",
        "import gradio as gr\n",
        "import requests\n",
        "import pandas as pd"
      ],
      "metadata": {
        "id": "X9dY-T8vVV8e"
      },
      "execution_count": null,
      "outputs": []
    },
    {
      "cell_type": "code",
      "execution_count": 16,
      "metadata": {
        "colab": {
          "base_uri": "https://localhost:8080/"
        },
        "id": "cpFRadjXT_Zs",
        "outputId": "428e01eb-f540-4f06-86db-542663d57833"
      },
      "outputs": [
        {
          "output_type": "execute_result",
          "data": {
            "text/plain": [
              "<Response [200]>"
            ]
          },
          "metadata": {},
          "execution_count": 16
        }
      ],
      "source": [
        "URL = ('http://apis.data.go.kr/B552061/frequentzoneBicycle/'\n",
        "  'getRestFrequentzoneBicycle?'\n",
        "  'ServiceKey=Zjah1kvtklaJ%2FiCxiHnWF8hNoM3LAfokX83aOMlHpIqn790H44sXISnvWKu5qFqNi%2FPMvH7v8Ry5s7N2FUGR9w%3D%3D'\n",
        "  '&searchYearCd=2017'\n",
        "  '&siDo=11'\n",
        "  '&guGun=680'\n",
        "  '&numOfRows=10'\n",
        "  '&pageNo=1'\n",
        "  '&type=json')\n",
        "response = requests.get(URL)\n",
        "response"
      ]
    },
    {
      "cell_type": "code",
      "source": [
        "r = response.json()\n",
        "r"
      ],
      "metadata": {
        "id": "pYialcl7V43h"
      },
      "execution_count": null,
      "outputs": []
    },
    {
      "cell_type": "code",
      "source": [
        "items = r['response'],['body'],['items']\n",
        "  searchYearCd = [item['searchYearCd'] for item in items]\n",
        "  siDo = [item['siDo']] for item in items]"
      ],
      "metadata": {
        "id": "5VL2hpgaXfXk"
      },
      "execution_count": null,
      "outputs": []
    }
  ]
}