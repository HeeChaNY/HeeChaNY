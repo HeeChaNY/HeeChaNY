{
  "nbformat": 4,
  "nbformat_minor": 0,
  "metadata": {
    "colab": {
      "name": "연습중df.ipynb",
      "provenance": [],
      "collapsed_sections": [],
      "authorship_tag": "ABX9TyNgPtOleu3u9WVxkQbGCQI2",
      "include_colab_link": true
    },
    "kernelspec": {
      "name": "python3",
      "display_name": "Python 3"
    },
    "language_info": {
      "name": "python"
    }
  },
  "cells": [
    {
      "cell_type": "markdown",
      "metadata": {
        "id": "view-in-github",
        "colab_type": "text"
      },
      "source": [
        "<a href=\"https://colab.research.google.com/github/HeeChaNY/HeeChaNY/blob/main/%EC%97%B0%EC%8A%B5%EC%A4%91df%20.ipynb\" target=\"_parent\"><img src=\"https://colab.research.google.com/assets/colab-badge.svg\" alt=\"Open In Colab\"/></a>"
      ]
    },
    {
      "cell_type": "code",
      "source": [
        "!pip install gradio\n",
        "import gradio as gr\n",
        "import requests\n",
        "import pandas as pd"
      ],
      "metadata": {
        "id": "X9dY-T8vVV8e"
      },
      "execution_count": null,
      "outputs": []
    },
    {
      "cell_type": "code",
      "execution_count": 34,
      "metadata": {
        "colab": {
          "base_uri": "https://localhost:8080/"
        },
        "id": "cpFRadjXT_Zs",
        "outputId": "f09f1649-6b6f-47a8-de16-3f8c7812005c"
      },
      "outputs": [
        {
          "output_type": "execute_result",
          "data": {
            "text/plain": [
              "<Response [200]>"
            ]
          },
          "metadata": {},
          "execution_count": 34
        }
      ],
      "source": [
        "URL = ('http://apis.data.go.kr/B551177/AviationStatsByAirport/'\n",
        "  'getTotalNumberOfFlight?'\n",
        "  'ServiceKey=Zjah1kvtklaJ%2FiCxiHnWF8hNoM3LAfokX83aOMlHpIqn790H44sXISnvWKu5qFqNi%2FPMvH7v8Ry5s7N2FUGR9w%3D%3D'\n",
        "  '&from_month=201409'\n",
        "  '&to_month=201410'\n",
        "  '&periodicity='\n",
        "  '&pax_cargo=Y'\n",
        "  '&type=json')\n",
        "response = requests.get(URL)\n",
        "response"
      ]
    },
    {
      "cell_type": "code",
      "source": [
        "r = response.json()\n",
        "r"
      ],
      "metadata": {
        "id": "pYialcl7V43h",
        "outputId": "4360d404-9228-4224-e95e-d024519916b0",
        "colab": {
          "base_uri": "https://localhost:8080/"
        }
      },
      "execution_count": 35,
      "outputs": [
        {
          "output_type": "execute_result",
          "data": {
            "text/plain": [
              "{'response': {'body': {'items': [{'airport': '광주',\n",
              "     'arrFlight': '1,136',\n",
              "     'depFlight': '1,136',\n",
              "     'flights': '2,272'},\n",
              "    {'airport': '군산', 'arrFlight': '28', 'depFlight': '28', 'flights': '56'},\n",
              "    {'airport': '김포',\n",
              "     'arrFlight': '12,073',\n",
              "     'depFlight': '12,073',\n",
              "     'flights': '24,146'},\n",
              "    {'airport': '김해',\n",
              "     'arrFlight': '6,651',\n",
              "     'depFlight': '6,656',\n",
              "     'flights': '13,307'},\n",
              "    {'airport': '대구',\n",
              "     'arrFlight': '1,192',\n",
              "     'depFlight': '1,192',\n",
              "     'flights': '2,384'},\n",
              "    {'airport': '무안',\n",
              "     'arrFlight': '122',\n",
              "     'depFlight': '122',\n",
              "     'flights': '244'},\n",
              "    {'airport': '사천',\n",
              "     'arrFlight': '147',\n",
              "     'depFlight': '146',\n",
              "     'flights': '293'},\n",
              "    {'airport': '양양',\n",
              "     'arrFlight': '144',\n",
              "     'depFlight': '146',\n",
              "     'flights': '290'},\n",
              "    {'airport': '여수',\n",
              "     'arrFlight': '480',\n",
              "     'depFlight': '480',\n",
              "     'flights': '960'},\n",
              "    {'airport': '울산',\n",
              "     'arrFlight': '410',\n",
              "     'depFlight': '410',\n",
              "     'flights': '820'},\n",
              "    {'airport': '원주', 'arrFlight': '60', 'depFlight': '60', 'flights': '120'},\n",
              "    {'airport': '인천',\n",
              "     'arrFlight': '22,019',\n",
              "     'depFlight': '21,997',\n",
              "     'flights': '44,016'},\n",
              "    {'airport': '제주',\n",
              "     'arrFlight': '13,347',\n",
              "     'depFlight': '13,345',\n",
              "     'flights': '26,692'},\n",
              "    {'airport': '청주',\n",
              "     'arrFlight': '1,094',\n",
              "     'depFlight': '1,096',\n",
              "     'flights': '2,190'}]},\n",
              "  'header': {'resultCode': '00', 'resultMsg': 'NORMAL SERVICE.'}}}"
            ]
          },
          "metadata": {},
          "execution_count": 35
        }
      ]
    },
    {
      "cell_type": "code",
      "source": [
        "items = r['response']['body']['items']\n",
        "items\n",
        "  "
      ],
      "metadata": {
        "id": "5VL2hpgaXfXk",
        "outputId": "7a29c9bf-41b1-45b9-e5ab-1eee8e57c52c",
        "colab": {
          "base_uri": "https://localhost:8080/"
        }
      },
      "execution_count": 5,
      "outputs": [
        {
          "output_type": "execute_result",
          "data": {
            "text/plain": [
              "[{'airport': '광주',\n",
              "  'arrFlight': '5,343',\n",
              "  'depFlight': '5,340',\n",
              "  'flights': '10,683'},\n",
              " {'airport': '군산', 'arrFlight': '486', 'depFlight': '486', 'flights': '972'},\n",
              " {'airport': '김포',\n",
              "  'arrFlight': '58,901',\n",
              "  'depFlight': '58,998',\n",
              "  'flights': '117,899'},\n",
              " {'airport': '김해',\n",
              "  'arrFlight': '33,931',\n",
              "  'depFlight': '33,966',\n",
              "  'flights': '67,897'},\n",
              " {'airport': '대구',\n",
              "  'arrFlight': '5,725',\n",
              "  'depFlight': '5,739',\n",
              "  'flights': '11,464'},\n",
              " {'airport': '무안', 'arrFlight': '944', 'depFlight': '922', 'flights': '1,866'},\n",
              " {'airport': '사천', 'arrFlight': '742', 'depFlight': '741', 'flights': '1,483'},\n",
              " {'airport': '양양', 'arrFlight': '519', 'depFlight': '527', 'flights': '1,046'},\n",
              " {'airport': '여수',\n",
              "  'arrFlight': '2,364',\n",
              "  'depFlight': '2,363',\n",
              "  'flights': '4,727'},\n",
              " {'airport': '울산',\n",
              "  'arrFlight': '2,071',\n",
              "  'depFlight': '2,071',\n",
              "  'flights': '4,142'},\n",
              " {'airport': '원주', 'arrFlight': '285', 'depFlight': '285', 'flights': '570'},\n",
              " {'airport': '인천',\n",
              "  'arrFlight': '111,973',\n",
              "  'depFlight': '111,829',\n",
              "  'flights': '223,802'},\n",
              " {'airport': '제주',\n",
              "  'arrFlight': '64,499',\n",
              "  'depFlight': '64,509',\n",
              "  'flights': '129,008'},\n",
              " {'airport': '청주',\n",
              "  'arrFlight': '5,404',\n",
              "  'depFlight': '5,393',\n",
              "  'flights': '10,797'}]"
            ]
          },
          "metadata": {},
          "execution_count": 5
        }
      ]
    },
    {
      "cell_type": "code",
      "source": [
        "items = r['response']['body']['items']\n",
        "items[11]\n"
      ],
      "metadata": {
        "id": "uGaOb9YdbZdm",
        "outputId": "a039e4c6-517d-4d2b-9131-0fd9cbbdb3d8",
        "colab": {
          "base_uri": "https://localhost:8080/"
        }
      },
      "execution_count": 6,
      "outputs": [
        {
          "output_type": "execute_result",
          "data": {
            "text/plain": [
              "{'airport': '인천',\n",
              " 'arrFlight': '111,973',\n",
              " 'depFlight': '111,829',\n",
              " 'flights': '223,802'}"
            ]
          },
          "metadata": {},
          "execution_count": 6
        }
      ]
    },
    {
      "cell_type": "code",
      "source": [
        "공항 = [a['airport'] for a in items]\n",
        "arrFlight = [item['arrFlight'] for item in items]\n",
        "depFlight = [item['depFlight']for item in items]\n",
        "flights = [item['flights']for item in items]\n",
        "\n",
        "공항 = pd.Series(공항)\n",
        "arrFlight = pd.Series(arrFlight)    \n",
        "depFlight = pd.Series(depFlight)\n",
        "flights = pd.Series(flights)\n",
        "\n",
        "df = pd.DataFrame({'합계' : flights, '도착' : depFlight, '출발' : arrFlight, '공항' : 공항})\n",
        "df"
      ],
      "metadata": {
        "id": "P3Y9AA7Nb1g1"
      },
      "execution_count": null,
      "outputs": []
    },
    {
      "cell_type": "code",
      "source": [
        "def air(from_month, to_month):\n",
        "  URL = ('http://apis.data.go.kr/B551177/AviationStatsByAirport/'\n",
        "  'getTotalNumberOfFlight?'\n",
        "  'ServiceKey=Zjah1kvtklaJ%2FiCxiHnWF8hNoM3LAfokX83aOMlHpIqn790H44sXISnvWKu5qFqNi%2FPMvH7v8Ry5s7N2FUGR9w%3D%3D'\n",
        "  '&from_month='+from_month+\n",
        "  '&to_month='+to_month+\n",
        "  '&periodicity='\n",
        "  '&pax_cargo=Y'\n",
        "  '&type=json')\n",
        "  response = requests.get(URL)\n",
        "  r = response.json()\n",
        "  items = r['response']['body']['items'] \n",
        "  공항 = [a['airport'] for a in items]\n",
        "  arrFlight = [item['arrFlight'] for item in items]\n",
        "  depFlight = [item['depFlight']for item in items]\n",
        "  flights = [item['flights']for item in items]\n",
        "\n",
        "  공항 = pd.Series(공항)\n",
        "  arrFlight = pd.Series(arrFlight)    \n",
        "  depFlight = pd.Series(depFlight)\n",
        "  flights = pd.Series(flights)\n",
        "\n",
        "  df = pd.DataFrame({'합계' : flights, '도착' : depFlight, '출발' : arrFlight, '공항' : 공항})\n",
        "  return df"
      ],
      "metadata": {
        "id": "e677kdXrmW5s"
      },
      "execution_count": 37,
      "outputs": []
    },
    {
      "cell_type": "code",
      "source": [
        "iface = gr.Interface(air, [gr.inputs.Dropdown(['201401','201403','201408','201501']), gr.inputs.Dropdown(['201401','201403','201408','201501'])], outputs=['dataframe'])\n",
        "iface.launch(debug=True)"
      ],
      "metadata": {
        "id": "ZqWGDOmxfET2",
        "outputId": "96e8020e-7dfd-491f-ab79-d8297ffdaa8a",
        "colab": {
          "base_uri": "https://localhost:8080/",
          "height": 593
        }
      },
      "execution_count": null,
      "outputs": [
        {
          "output_type": "stream",
          "name": "stdout",
          "text": [
            "Colab notebook detected. This cell will run indefinitely so that you can see errors and logs. To turn off, set debug=False in launch().\n",
            "Running on public URL: https://35200.gradio.app\n",
            "\n",
            "This share link expires in 72 hours. For free permanent hosting, check out Spaces (https://huggingface.co/spaces)\n"
          ]
        },
        {
          "output_type": "display_data",
          "data": {
            "text/plain": [
              "<IPython.lib.display.IFrame at 0x7f14cfd80e50>"
            ],
            "text/html": [
              "\n",
              "        <iframe\n",
              "            width=\"900\"\n",
              "            height=\"500\"\n",
              "            src=\"https://35200.gradio.app\"\n",
              "            frameborder=\"0\"\n",
              "            allowfullscreen\n",
              "        ></iframe>\n",
              "        "
            ]
          },
          "metadata": {}
        }
      ]
    },
    {
      "cell_type": "code",
      "source": [
        ""
      ],
      "metadata": {
        "id": "mBylPdb-pYqg"
      },
      "execution_count": null,
      "outputs": []
    },
    {
      "cell_type": "code",
      "source": [
        ""
      ],
      "metadata": {
        "id": "2gviR9M0pZEm"
      },
      "execution_count": null,
      "outputs": []
    }
  ]
}