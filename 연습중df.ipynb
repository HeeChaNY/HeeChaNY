{
  "nbformat": 4,
  "nbformat_minor": 0,
  "metadata": {
    "colab": {
      "name": "연습중df.ipynb",
      "provenance": [],
      "collapsed_sections": [],
      "authorship_tag": "ABX9TyNZwYa4anrXTv71tUifDIRr",
      "include_colab_link": true
    },
    "kernelspec": {
      "name": "python3",
      "display_name": "Python 3"
    },
    "language_info": {
      "name": "python"
    }
  },
  "cells": [
    {
      "cell_type": "markdown",
      "metadata": {
        "id": "view-in-github",
        "colab_type": "text"
      },
      "source": [
        "<a href=\"https://colab.research.google.com/github/HeeChaNY/HeeChaNY/blob/main/%EC%97%B0%EC%8A%B5%EC%A4%91df.ipynb\" target=\"_parent\"><img src=\"https://colab.research.google.com/assets/colab-badge.svg\" alt=\"Open In Colab\"/></a>"
      ]
    },
    {
      "cell_type": "code",
      "source": [
        "!pip install gradio\n",
        "import gradio as gr\n",
        "import requests\n",
        "import pandas as pd"
      ],
      "metadata": {
        "id": "X9dY-T8vVV8e"
      },
      "execution_count": null,
      "outputs": []
    },
    {
      "cell_type": "code",
      "execution_count": 5,
      "metadata": {
        "colab": {
          "base_uri": "https://localhost:8080/"
        },
        "id": "cpFRadjXT_Zs",
        "outputId": "933397dc-5f77-496f-9280-0fdf02874892"
      },
      "outputs": [
        {
          "output_type": "execute_result",
          "data": {
            "text/plain": [
              "<Response [200]>"
            ]
          },
          "metadata": {},
          "execution_count": 5
        }
      ],
      "source": [
        "URL = ('http://apis.data.go.kr/B551177/AviationStatsByAirport/'\n",
        "  'getTotalNumberOfFlight?'\n",
        "  'ServiceKey=Zjah1kvtklaJ%2FiCxiHnWF8hNoM3LAfokX83aOMlHpIqn790H44sXISnvWKu5qFqNi%2FPMvH7v8Ry5s7N2FUGR9w%3D%3D'\n",
        "  '&from_month=201408'\n",
        "  '&to_month=201505'\n",
        "  '&periodicity='\n",
        "  '&pax_cargo=Y'\n",
        "  '&type=json')\n",
        "response = requests.get(URL)\n",
        "response"
      ]
    },
    {
      "cell_type": "code",
      "source": [
        "r = response.json()\n",
        "r"
      ],
      "metadata": {
        "id": "pYialcl7V43h"
      },
      "execution_count": null,
      "outputs": []
    },
    {
      "cell_type": "code",
      "source": [
        "items = r['response']['body']['items']\n",
        "items\n",
        "  "
      ],
      "metadata": {
        "id": "5VL2hpgaXfXk"
      },
      "execution_count": null,
      "outputs": []
    },
    {
      "cell_type": "code",
      "source": [
        "items = r['response']['body']['items']\n",
        "items[11]\n"
      ],
      "metadata": {
        "id": "uGaOb9YdbZdm"
      },
      "execution_count": null,
      "outputs": []
    },
    {
      "cell_type": "code",
      "source": [
        "공항 = [a['airport'] for a in items]\n",
        "arrFlight = [item['arrFlight'] for item in items]\n",
        "depFlight = [item['depFlight']for item in items]\n",
        "flights = [item['flights']for item in items]\n",
        "\n",
        "공항 = pd.Series(공항)\n",
        "arrFlight = pd.Series(arrFlight)    \n",
        "depFlight = pd.Series(depFlight)\n",
        "flights = pd.Series(flights)\n",
        "\n",
        "df = pd.DataFrame({'합계' : flights, '도착' : depFlight, '출발' : arrFlight, '공항' : 공항})\n",
        "df"
      ],
      "metadata": {
        "id": "P3Y9AA7Nb1g1"
      },
      "execution_count": null,
      "outputs": []
    },
    {
      "cell_type": "code",
      "source": [
        "def air(from_month, to_month):\n",
        "  URL = ('http://apis.data.go.kr/B551177/AviationStatsByAirport/'\n",
        "  'getTotalNumberOfFlight?'\n",
        "  'ServiceKey=Zjah1kvtklaJ%2FiCxiHnWF8hNoM3LAfokX83aOMlHpIqn790H44sXISnvWKu5qFqNi%2FPMvH7v8Ry5s7N2FUGR9w%3D%3D'\n",
        "  '&from_month='+from_month+\n",
        "  '&to_month='+to_month+\n",
        "  '&periodicity='\n",
        "  '&pax_cargo=Y'\n",
        "  '&type=json')\n",
        "response = requests.get(URL)\n",
        "r = response.json()\n",
        "items = r['response']['body']['items']\n",
        "공항 = [a['airport'] for a in items]\n",
        "arrFlight = [item['arrFlight'] for item in items]\n",
        "depFlight = [item['depFlight']for item in items]\n",
        "flights = [item['flights']for item in items]\n",
        "\n",
        "공항 = pd.Series(공항)\n",
        "arrFlight = pd.Series(arrFlight)    \n",
        "depFlight = pd.Series(depFlight)\n",
        "flights = pd.Series(flights)\n",
        "\n",
        "df = pd.DataFrame({'합계' : flights, '도착' : depFlight, '출발' : arrFlight, '공항' : 공항})\n",
        "return df"
      ],
      "metadata": {
        "colab": {
          "base_uri": "https://localhost:8080/",
          "height": 136
        },
        "id": "e677kdXrmW5s",
        "outputId": "7b0d3c9f-7e95-4c32-d46b-d2017624f7d9"
      },
      "execution_count": 15,
      "outputs": [
        {
          "output_type": "error",
          "ename": "SyntaxError",
          "evalue": "ignored",
          "traceback": [
            "\u001b[0;36m  File \u001b[0;32m\"<ipython-input-15-50d17eb1a314>\"\u001b[0;36m, line \u001b[0;32m24\u001b[0m\n\u001b[0;31m    return df\u001b[0m\n\u001b[0m             ^\u001b[0m\n\u001b[0;31mSyntaxError\u001b[0m\u001b[0;31m:\u001b[0m 'return' outside function\n"
          ]
        }
      ]
    },
    {
      "cell_type": "code",
      "source": [
        ""
      ],
      "metadata": {
        "id": "mBylPdb-pYqg"
      },
      "execution_count": null,
      "outputs": []
    },
    {
      "cell_type": "code",
      "source": [
        ""
      ],
      "metadata": {
        "id": "2gviR9M0pZEm"
      },
      "execution_count": null,
      "outputs": []
    }
  ]
}