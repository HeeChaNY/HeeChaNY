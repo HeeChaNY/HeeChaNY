{
  "nbformat": 4,
  "nbformat_minor": 0,
  "metadata": {
    "colab": {
      "name": "20220328.ipynb",
      "provenance": [],
      "authorship_tag": "ABX9TyMW8YWipdfOOVtgP+TscyJd",
      "include_colab_link": true
    },
    "kernelspec": {
      "name": "python3",
      "display_name": "Python 3"
    },
    "language_info": {
      "name": "python"
    }
  },
  "cells": [
    {
      "cell_type": "markdown",
      "metadata": {
        "id": "view-in-github",
        "colab_type": "text"
      },
      "source": [
        "<a href=\"https://colab.research.google.com/github/HeeChaNY/HeeChaNY/blob/main/20220328.ipynb\" target=\"_parent\"><img src=\"https://colab.research.google.com/assets/colab-badge.svg\" alt=\"Open In Colab\"/></a>"
      ]
    },
    {
      "cell_type": "code",
      "execution_count": null,
      "metadata": {
        "id": "IDTz-XzLezQS"
      },
      "outputs": [],
      "source": [
        ""
      ]
    },
    {
      "cell_type": "code",
      "source": [
        "!pip install gradio\n",
        "import gradio as gr\n",
        "import requests\n",
        "import pandas as pd"
      ],
      "metadata": {
        "id": "8eZHGJhmqd9a"
      },
      "execution_count": null,
      "outputs": []
    },
    {
      "cell_type": "code",
      "source": [
        "requests.get('http://openapi.animal.go.kr/openapi/service/rest/abandonmentPublicSrvc/sido?ServiceKey=Zjah1kvtklaJ%2FiCxiHnWF8hNoM3LAfokX83aOMlHpIqn790H44sXISnvWKu5qFqNi%2FPMvH7v8Ry5s7N2FUGR9w%3D%3D')"
      ],
      "metadata": {
        "id": "GLCGKla4ilSo",
        "outputId": "a266bff0-6811-4fd8-8a22-b9e58fa52e03",
        "colab": {
          "base_uri": "https://localhost:8080/"
        }
      },
      "execution_count": 2,
      "outputs": [
        {
          "output_type": "execute_result",
          "data": {
            "text/plain": [
              "<Response [200]>"
            ]
          },
          "metadata": {},
          "execution_count": 2
        }
      ]
    },
    {
      "cell_type": "code",
      "source": [
        "requests.get('http://apis.data.go.kr/6260000/GoodPriceStoreService/getGoodPirceStore?serviceKey=Zjah1kvtklaJ%2FiCxiHnWF8hNoM3LAfokX83aOMlHpIqn790H44sXISnvWKu5qFqNi%2FPMvH7v8Ry5s7N2FUGR9w%3D%3D&numOfRows=5&pageNo=1')"
      ],
      "metadata": {
        "id": "EffqCOeVb9PE",
        "outputId": "a009c780-e25f-411c-92d2-4b0ab1521e11",
        "colab": {
          "base_uri": "https://localhost:8080/"
        }
      },
      "execution_count": 3,
      "outputs": [
        {
          "output_type": "execute_result",
          "data": {
            "text/plain": [
              "<Response [500]>"
            ]
          },
          "metadata": {},
          "execution_count": 3
        }
      ]
    },
    {
      "cell_type": "code",
      "source": [
        "URL = ('http://apis.data.go.kr/B551177/StatusOfPassengerFlightsOdp/'\n",
        "      'getPassengerArrivalsOdp?'\n",
        "      'serviceKey=Zjah1kvtklaJ/iCxiHnWF8hNoM3LAfokX83aOMlHpIqn790H44sXISnvWKu5qFqNi/PMvH7v8Ry5s7N2FUGR9w=='\n",
        "      '&from_time=0000&to_time=2400'\n",
        "      '&airport=TAS'\n",
        "      '&flight_id=KE5942'\n",
        "      '&airline=KE'\n",
        "      '&lang=K'\n",
        "      '&type=json')\n",
        "response = requests.get(URL)"
      ],
      "metadata": {
        "id": "lf4WSyYteLhw"
      },
      "execution_count": 4,
      "outputs": []
    },
    {
      "cell_type": "code",
      "source": [
        "URL= ('http://apis.data.go.kr/B552061/frequentzoneBicycle/'\n",
        "    'getRestFrequentzoneBicycle?'\n",
        "    'ServiceKey=Zjah1kvtklaJ/iCxiHnWF8hNoM3LAfokX83aOMlHpIqn790H44sXISnvWKu5qFqNi/PMvH7v8Ry5s7N2FUGR9w=='\n",
        "    '&searchYearCd=2017'\n",
        "    '&siDo=11'\n",
        "    '&guGun=680'\n",
        "    '&numOfRows=10'\n",
        "    '&pageNo=1')\n",
        "response = requests.get(URL)"
      ],
      "metadata": {
        "id": "mwIqRZv-tK9U"
      },
      "execution_count": 5,
      "outputs": []
    },
    {
      "cell_type": "code",
      "source": [
        "URL = ('http://apis.data.go.kr/B552584/ArpltnStatsSvc/'\n",
        "      'getCtprvnMesureSidoLIst?'\n",
        "      'sidoName=서울'\n",
        "      '&searchCondition=hour'\n",
        "      '&pageNo=1'\n",
        "      '&numOfRows=100'\n",
        "      '&returnType=json'\n",
        "      '&serviceKey=Zjah1kvtklaJ%2FiCxiHnWF8hNoM3LAfokX83aOMlHpIqn790H44sXISnvWKu5qFqNi%2FPMvH7v8Ry5s7N2FUGR9w%3D%3D')\n",
        "response = requests.get(URL)\n",
        "response"
      ],
      "metadata": {
        "id": "lHHEwqpyJF7r",
        "outputId": "21438de7-7d2a-4f25-ab5f-52a2360ee31c",
        "colab": {
          "base_uri": "https://localhost:8080/"
        }
      },
      "execution_count": 6,
      "outputs": [
        {
          "output_type": "execute_result",
          "data": {
            "text/plain": [
              "<Response [200]>"
            ]
          },
          "metadata": {},
          "execution_count": 6
        }
      ]
    },
    {
      "cell_type": "code",
      "source": [
        "URL = ('http://apis.data.go.kr/6260000/GoodPriceStoreService/'\n",
        "    'getGoodPirceStore?'\n",
        "    'serviceKey=Zjah1kvtklaJ/iCxiHnWF8hNoM3LAfokX83aOMlHpIqn790H44sXISnvWKu5qFqNi/PMvH7v8Ry5s7N2FUGR9w=='\n",
        "    '&numOfRows=5'\n",
        "    '&pageNo=1')\n",
        "response = requests.get(URL)"
      ],
      "metadata": {
        "id": "wnaK-vldxTUl"
      },
      "execution_count": 7,
      "outputs": []
    },
    {
      "cell_type": "code",
      "source": [
        "response"
      ],
      "metadata": {
        "id": "ix8Fy-JnvWMT",
        "outputId": "89d9bba4-eb9d-4bca-ed5e-cc1e5b6c2777",
        "colab": {
          "base_uri": "https://localhost:8080/"
        }
      },
      "execution_count": 8,
      "outputs": [
        {
          "output_type": "execute_result",
          "data": {
            "text/plain": [
              "<Response [500]>"
            ]
          },
          "metadata": {},
          "execution_count": 8
        }
      ]
    },
    {
      "cell_type": "code",
      "source": [
        "URL = ('http://apis.data.go.kr/B552061/frequentzoneBicycle/'\n",
        "'getRestFrequentzoneBicycle?'\n",
        "'ServiceKey=Zjqp%2Be%2BzEDVzAYMhYka7ej8naRCZOH2lxR9Z6vVaSX8Ndj8hiLgeTIY%2FYkjAy5YG4LWPOc66Ho9ARN9AoxgAuQ%3D%3D'\n",
        "'&searchYearCd=2017'\n",
        "'&siDo=11&guGun=680'\n",
        "'&numOfRows=10'\n",
        "'&pageNo=1')\n",
        "response = requests.get(URL)\n",
        "response"
      ],
      "metadata": {
        "id": "WmCzh5_RqTho",
        "outputId": "da037ccb-ec08-442f-db58-ef81438c5938",
        "colab": {
          "base_uri": "https://localhost:8080/"
        }
      },
      "execution_count": 9,
      "outputs": [
        {
          "output_type": "execute_result",
          "data": {
            "text/plain": [
              "<Response [200]>"
            ]
          },
          "metadata": {},
          "execution_count": 9
        }
      ]
    },
    {
      "cell_type": "code",
      "source": [
        "response = requests.get('http://apis.data.go.kr/B551177/AviationStatsByAirline/'\n",
        "  'getTotalNumberOfFlight?'\n",
        "  'serviceKey=Zjqp%2Be%2BzEDVzAYMhYka7ej8naRCZOH2lxR9Z6vVaSX8Ndj8hiLgeTIY%2FYkjAy5YG4LWPOc66Ho9ARN9AoxgAuQ%3D%3D'\n",
        "  '&from_month=201703'\n",
        "  '&to_month=201703'\n",
        "  '&periodicity=0'\n",
        "  '&pax_cargo=Y'\n",
        "  '&domestic_foreign=I'\n",
        "  '&type=json')\n",
        "response"
      ],
      "metadata": {
        "id": "tK3GrkmD7zlc",
        "outputId": "4417b041-a7d5-44a1-e18c-acc6f82b8c37",
        "colab": {
          "base_uri": "https://localhost:8080/"
        }
      },
      "execution_count": 10,
      "outputs": [
        {
          "output_type": "execute_result",
          "data": {
            "text/plain": [
              "<Response [200]>"
            ]
          },
          "metadata": {},
          "execution_count": 10
        }
      ]
    },
    {
      "cell_type": "code",
      "source": [
        "r = response.json()\n",
        "r"
      ],
      "metadata": {
        "id": "mv_q6QXZ7-xh"
      },
      "execution_count": null,
      "outputs": []
    },
    {
      "cell_type": "code",
      "source": [
        "items = r['response']['body']['items']\n",
        "\n",
        "airline = [item['airline'] for item in items]\n",
        "arrFlights = [item['arrFlights'] for item in items]\n",
        "depFlights = [item['depFlights'] for item in items]\n",
        "airlineCode = [item['airlineCode'] for item in items]\n",
        "\n",
        "airline = pd.Series(airline)\n",
        "arrFlights = pd.Series(arrFlights)\n",
        "depFlights = pd.Series(depFlights)\n",
        "airlineCode = pd.Series(airlineCode)\n",
        "    \n",
        "df = pd.DataFrame({'항공사': airline, '항공사코드': airlineCode, '도착': arrFlights, '출발': depFlights})\n",
        "df"
      ],
      "metadata": {
        "id": "xM7a5jYT9i7R",
        "outputId": "e79aef38-04dd-4b1d-f65c-1f601e83cd26",
        "colab": {
          "base_uri": "https://localhost:8080/",
          "height": 423
        }
      },
      "execution_count": 12,
      "outputs": [
        {
          "output_type": "execute_result",
          "data": {
            "text/plain": [
              "          항공사 항공사코드     도착     출발\n",
              "0   KLM네덜란드항공    KL     26     26\n",
              "1       S7항공     S7     27     27\n",
              "2    가루다인도네시아    GA     56     56\n",
              "3        대한항공    KE  3,145  3,149\n",
              "4        델타항공    DL     62     62\n",
              "..        ...   ...    ...    ...\n",
              "62   필리핀에어아시아    Z2    124    124\n",
              "63      필리핀항공    PR    183    183\n",
              "64    하와이안 항공    HA     22     22\n",
              "65    홍콩익스프레스    UO     99    100\n",
              "66       홍콩항공    HX     31     31\n",
              "\n",
              "[67 rows x 4 columns]"
            ],
            "text/html": [
              "\n",
              "  <div id=\"df-8ba36bcb-a8ef-4a4b-91ce-7a35c0dfb849\">\n",
              "    <div class=\"colab-df-container\">\n",
              "      <div>\n",
              "<style scoped>\n",
              "    .dataframe tbody tr th:only-of-type {\n",
              "        vertical-align: middle;\n",
              "    }\n",
              "\n",
              "    .dataframe tbody tr th {\n",
              "        vertical-align: top;\n",
              "    }\n",
              "\n",
              "    .dataframe thead th {\n",
              "        text-align: right;\n",
              "    }\n",
              "</style>\n",
              "<table border=\"1\" class=\"dataframe\">\n",
              "  <thead>\n",
              "    <tr style=\"text-align: right;\">\n",
              "      <th></th>\n",
              "      <th>항공사</th>\n",
              "      <th>항공사코드</th>\n",
              "      <th>도착</th>\n",
              "      <th>출발</th>\n",
              "    </tr>\n",
              "  </thead>\n",
              "  <tbody>\n",
              "    <tr>\n",
              "      <th>0</th>\n",
              "      <td>KLM네덜란드항공</td>\n",
              "      <td>KL</td>\n",
              "      <td>26</td>\n",
              "      <td>26</td>\n",
              "    </tr>\n",
              "    <tr>\n",
              "      <th>1</th>\n",
              "      <td>S7항공</td>\n",
              "      <td>S7</td>\n",
              "      <td>27</td>\n",
              "      <td>27</td>\n",
              "    </tr>\n",
              "    <tr>\n",
              "      <th>2</th>\n",
              "      <td>가루다인도네시아</td>\n",
              "      <td>GA</td>\n",
              "      <td>56</td>\n",
              "      <td>56</td>\n",
              "    </tr>\n",
              "    <tr>\n",
              "      <th>3</th>\n",
              "      <td>대한항공</td>\n",
              "      <td>KE</td>\n",
              "      <td>3,145</td>\n",
              "      <td>3,149</td>\n",
              "    </tr>\n",
              "    <tr>\n",
              "      <th>4</th>\n",
              "      <td>델타항공</td>\n",
              "      <td>DL</td>\n",
              "      <td>62</td>\n",
              "      <td>62</td>\n",
              "    </tr>\n",
              "    <tr>\n",
              "      <th>...</th>\n",
              "      <td>...</td>\n",
              "      <td>...</td>\n",
              "      <td>...</td>\n",
              "      <td>...</td>\n",
              "    </tr>\n",
              "    <tr>\n",
              "      <th>62</th>\n",
              "      <td>필리핀에어아시아</td>\n",
              "      <td>Z2</td>\n",
              "      <td>124</td>\n",
              "      <td>124</td>\n",
              "    </tr>\n",
              "    <tr>\n",
              "      <th>63</th>\n",
              "      <td>필리핀항공</td>\n",
              "      <td>PR</td>\n",
              "      <td>183</td>\n",
              "      <td>183</td>\n",
              "    </tr>\n",
              "    <tr>\n",
              "      <th>64</th>\n",
              "      <td>하와이안 항공</td>\n",
              "      <td>HA</td>\n",
              "      <td>22</td>\n",
              "      <td>22</td>\n",
              "    </tr>\n",
              "    <tr>\n",
              "      <th>65</th>\n",
              "      <td>홍콩익스프레스</td>\n",
              "      <td>UO</td>\n",
              "      <td>99</td>\n",
              "      <td>100</td>\n",
              "    </tr>\n",
              "    <tr>\n",
              "      <th>66</th>\n",
              "      <td>홍콩항공</td>\n",
              "      <td>HX</td>\n",
              "      <td>31</td>\n",
              "      <td>31</td>\n",
              "    </tr>\n",
              "  </tbody>\n",
              "</table>\n",
              "<p>67 rows × 4 columns</p>\n",
              "</div>\n",
              "      <button class=\"colab-df-convert\" onclick=\"convertToInteractive('df-8ba36bcb-a8ef-4a4b-91ce-7a35c0dfb849')\"\n",
              "              title=\"Convert this dataframe to an interactive table.\"\n",
              "              style=\"display:none;\">\n",
              "        \n",
              "  <svg xmlns=\"http://www.w3.org/2000/svg\" height=\"24px\"viewBox=\"0 0 24 24\"\n",
              "       width=\"24px\">\n",
              "    <path d=\"M0 0h24v24H0V0z\" fill=\"none\"/>\n",
              "    <path d=\"M18.56 5.44l.94 2.06.94-2.06 2.06-.94-2.06-.94-.94-2.06-.94 2.06-2.06.94zm-11 1L8.5 8.5l.94-2.06 2.06-.94-2.06-.94L8.5 2.5l-.94 2.06-2.06.94zm10 10l.94 2.06.94-2.06 2.06-.94-2.06-.94-.94-2.06-.94 2.06-2.06.94z\"/><path d=\"M17.41 7.96l-1.37-1.37c-.4-.4-.92-.59-1.43-.59-.52 0-1.04.2-1.43.59L10.3 9.45l-7.72 7.72c-.78.78-.78 2.05 0 2.83L4 21.41c.39.39.9.59 1.41.59.51 0 1.02-.2 1.41-.59l7.78-7.78 2.81-2.81c.8-.78.8-2.07 0-2.86zM5.41 20L4 18.59l7.72-7.72 1.47 1.35L5.41 20z\"/>\n",
              "  </svg>\n",
              "      </button>\n",
              "      \n",
              "  <style>\n",
              "    .colab-df-container {\n",
              "      display:flex;\n",
              "      flex-wrap:wrap;\n",
              "      gap: 12px;\n",
              "    }\n",
              "\n",
              "    .colab-df-convert {\n",
              "      background-color: #E8F0FE;\n",
              "      border: none;\n",
              "      border-radius: 50%;\n",
              "      cursor: pointer;\n",
              "      display: none;\n",
              "      fill: #1967D2;\n",
              "      height: 32px;\n",
              "      padding: 0 0 0 0;\n",
              "      width: 32px;\n",
              "    }\n",
              "\n",
              "    .colab-df-convert:hover {\n",
              "      background-color: #E2EBFA;\n",
              "      box-shadow: 0px 1px 2px rgba(60, 64, 67, 0.3), 0px 1px 3px 1px rgba(60, 64, 67, 0.15);\n",
              "      fill: #174EA6;\n",
              "    }\n",
              "\n",
              "    [theme=dark] .colab-df-convert {\n",
              "      background-color: #3B4455;\n",
              "      fill: #D2E3FC;\n",
              "    }\n",
              "\n",
              "    [theme=dark] .colab-df-convert:hover {\n",
              "      background-color: #434B5C;\n",
              "      box-shadow: 0px 1px 3px 1px rgba(0, 0, 0, 0.15);\n",
              "      filter: drop-shadow(0px 1px 2px rgba(0, 0, 0, 0.3));\n",
              "      fill: #FFFFFF;\n",
              "    }\n",
              "  </style>\n",
              "\n",
              "      <script>\n",
              "        const buttonEl =\n",
              "          document.querySelector('#df-8ba36bcb-a8ef-4a4b-91ce-7a35c0dfb849 button.colab-df-convert');\n",
              "        buttonEl.style.display =\n",
              "          google.colab.kernel.accessAllowed ? 'block' : 'none';\n",
              "\n",
              "        async function convertToInteractive(key) {\n",
              "          const element = document.querySelector('#df-8ba36bcb-a8ef-4a4b-91ce-7a35c0dfb849');\n",
              "          const dataTable =\n",
              "            await google.colab.kernel.invokeFunction('convertToInteractive',\n",
              "                                                     [key], {});\n",
              "          if (!dataTable) return;\n",
              "\n",
              "          const docLinkHtml = 'Like what you see? Visit the ' +\n",
              "            '<a target=\"_blank\" href=https://colab.research.google.com/notebooks/data_table.ipynb>data table notebook</a>'\n",
              "            + ' to learn more about interactive tables.';\n",
              "          element.innerHTML = '';\n",
              "          dataTable['output_type'] = 'display_data';\n",
              "          await google.colab.output.renderOutput(dataTable, element);\n",
              "          const docLink = document.createElement('div');\n",
              "          docLink.innerHTML = docLinkHtml;\n",
              "          element.appendChild(docLink);\n",
              "        }\n",
              "      </script>\n",
              "    </div>\n",
              "  </div>\n",
              "  "
            ]
          },
          "metadata": {},
          "execution_count": 12
        }
      ]
    },
    {
      "cell_type": "code",
      "source": [
        "def start(arrFlights):\n",
        "    URL = ('http://apis.data.go.kr/B551177/AviationStatsByAirline/'\n",
        "  'getTotalNumberOfFlight?'\n",
        "  'serviceKey=Zjqp%2Be%2BzEDVzAYMhYka7ej8naRCZOH2lxR9Z6vVaSX8Ndj8hiLgeTIY%2FYkjAy5YG4LWPOc66Ho9ARN9AoxgAuQ%3D%3D'\n",
        "  '&from_month=201703'\n",
        "  '&to_month=201703'\n",
        "  '&periodicity=0'\n",
        "  '&pax_cargo=Y'\n",
        "  '&domestic_foreign=I'\n",
        "  '&type=json')\n",
        "    response = requests.get(URL) \n",
        "    r = response.json()\n",
        "\n",
        "    items = r['response']['body']['items']\n",
        "\n",
        "    airline = [item['airline'] for item in items]\n",
        "    airlineCode = [item['airlineCode'] for item in items]\n",
        "    arrFlights = [item['arrFlights'] for item in items]\n",
        "    depFlights = [item['depFlights'] for item in items]\n",
        "\n",
        "    airline = pd.Series(airline)\n",
        "    airlineCode = pd.Series(airlineCode)   \n",
        "    arrFlights = pd.Series(arrFlights)\n",
        "    depFlights = pd.Series(depFlights)\n",
        "        \n",
        "    df = pd.DataFrame({'항공사': airline, '항공사코드': airlineCode, '도착': arrFlights, '출발': depFlights})\n",
        "    return df"
      ],
      "metadata": {
        "id": "dYPeWFo_9vIP"
      },
      "execution_count": 13,
      "outputs": []
    },
    {
      "cell_type": "code",
      "source": [
        "iface = gr.Interface(start, gr.inputs.Dropdown(['26, 27, 28, 29, 30, 31, 32']), outputs=['dataframe'])\n",
        "iface.launch(debug=True) "
      ],
      "metadata": {
        "id": "RhQbV9b7c_8b",
        "outputId": "a9c15cf0-cd16-4f51-d767-814c29f92b03",
        "colab": {
          "base_uri": "https://localhost:8080/",
          "height": 593
        }
      },
      "execution_count": null,
      "outputs": [
        {
          "output_type": "stream",
          "name": "stdout",
          "text": [
            "Colab notebook detected. This cell will run indefinitely so that you can see errors and logs. To turn off, set debug=False in launch().\n",
            "Running on public URL: https://39060.gradio.app\n",
            "\n",
            "This share link expires in 72 hours. For free permanent hosting, check out Spaces (https://huggingface.co/spaces)\n"
          ]
        },
        {
          "output_type": "display_data",
          "data": {
            "text/plain": [
              "<IPython.lib.display.IFrame at 0x7f6e4c08a8d0>"
            ],
            "text/html": [
              "\n",
              "        <iframe\n",
              "            width=\"900\"\n",
              "            height=\"500\"\n",
              "            src=\"https://39060.gradio.app\"\n",
              "            frameborder=\"0\"\n",
              "            allowfullscreen\n",
              "        ></iframe>\n",
              "        "
            ]
          },
          "metadata": {}
        }
      ]
    }
  ]
}