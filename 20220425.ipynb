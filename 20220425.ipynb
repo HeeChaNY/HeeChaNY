{
  "nbformat": 4,
  "nbformat_minor": 0,
  "metadata": {
    "colab": {
      "name": "Untitled4.ipynb",
      "provenance": [],
      "authorship_tag": "ABX9TyNS1Vd1mhgpp8aw+eQuO6Lc",
      "include_colab_link": true
    },
    "kernelspec": {
      "name": "python3",
      "display_name": "Python 3"
    },
    "language_info": {
      "name": "python"
    }
  },
  "cells": [
    {
      "cell_type": "markdown",
      "metadata": {
        "id": "view-in-github",
        "colab_type": "text"
      },
      "source": [
        "<a href=\"https://colab.research.google.com/github/HeeChaNY/HeeChaNY/blob/main/20220425.ipynb\" target=\"_parent\"><img src=\"https://colab.research.google.com/assets/colab-badge.svg\" alt=\"Open In Colab\"/></a>"
      ]
    },
    {
      "cell_type": "markdown",
      "source": [
        "Auto correlation\n",
        "\n",
        "(자기상관)\n",
        "* 연속된 시간 관격 속에서 자기 자신의 신호 간 상관관계를 파악함.\n",
        "* 연속된 시간 속에서 몇 회 간의 시간차를 두고 이들 변수간의 상관관계를 파악한다.\n",
        "* +1은 완전한 양의 상관관계, -1은 완전한 음의 상관관계\n",
        "* 강수확률, 증시 동향 예측 등에 활용 가능\n",
        "\n",
        "\n",
        "RMS(root mean square)\n",
        "\n",
        "(제곱 평균의 제곱근)\n",
        "\n",
        "* 변수를 각각 제곱하고 모두 평균내서 결과에 제곱근을 씌움.\n",
        "\n",
        "* 연속 파형을 나타낼 때 사용\n",
        "\n",
        "* 대푯값의 역할을 함"
      ],
      "metadata": {
        "id": "W20PQPUql-HS"
      }
    }
  ]
}