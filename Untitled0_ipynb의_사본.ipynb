{
  "nbformat": 4,
  "nbformat_minor": 0,
  "metadata": {
    "colab": {
      "name": "Untitled0.ipynb의 사본",
      "provenance": [],
      "collapsed_sections": [],
      "authorship_tag": "ABX9TyOSNWqqLU6GX594fhQPdr/j",
      "include_colab_link": true
    },
    "kernelspec": {
      "name": "python3",
      "display_name": "Python 3"
    },
    "language_info": {
      "name": "python"
    }
  },
  "cells": [
    {
      "cell_type": "markdown",
      "metadata": {
        "id": "view-in-github",
        "colab_type": "text"
      },
      "source": [
        "<a href=\"https://colab.research.google.com/github/HeeChaNY/HeeChaNY/blob/main/Untitled0_ipynb%EC%9D%98_%EC%82%AC%EB%B3%B8.ipynb\" target=\"_parent\"><img src=\"https://colab.research.google.com/assets/colab-badge.svg\" alt=\"Open In Colab\"/></a>"
      ]
    },
    {
      "cell_type": "code",
      "execution_count": null,
      "metadata": {
        "colab": {
          "base_uri": "https://localhost:8080/"
        },
        "id": "12_e3Oufx3yj",
        "outputId": "8a80c928-db59-4e5c-bdf5-73721adb90d1"
      },
      "outputs": [
        {
          "output_type": "stream",
          "name": "stdout",
          "text": [
            "1\n",
            "2\n",
            "3\n",
            "5\n"
          ]
        }
      ],
      "source": [
        "z = [1, 2, 3, 5]\n",
        "for j in z:\n",
        "    print (j)"
      ]
    },
    {
      "cell_type": "code",
      "source": [
        "a = 'asasd'\n",
        "b = 1.0\n",
        "c = [1, 3, 5, 'asdvs']\n",
        "for k in a, b, c:\n",
        "  print (k)\n",
        "  print (type(k))\n",
        "for k in range(len(c)-1):\n",
        "  print (c[k])\n",
        "for k in range(4):\n",
        "  print(c[k])"
      ],
      "metadata": {
        "id": "rS-v74rQy_fC"
      },
      "execution_count": null,
      "outputs": []
    },
    {
      "cell_type": "code",
      "source": [
        ""
      ],
      "metadata": {
        "id": "9qX0PsXVzfiC"
      },
      "execution_count": null,
      "outputs": []
    },
    {
      "cell_type": "code",
      "source": [
        "a = [1, 2, 4, 9]\n",
        "print (a[:4])\n",
        "print (a[1:4])\n",
        "for i in range(len(a)):\n",
        "  print (a[i])\n",
        "print ('asad')\n",
        "for i in range (1,3):\n",
        "  i = a[i]\n",
        "  for k in range(len(a)):\n",
        "    k = a[k]\n",
        "    p = (i*k)\n",
        "    if p>=6:\n",
        "        print (p)"
      ],
      "metadata": {
        "colab": {
          "base_uri": "https://localhost:8080/"
        },
        "id": "p_U13Lw61yz4",
        "outputId": "5ac3b5cf-5c0f-490a-ea84-c57357facd83"
      },
      "execution_count": null,
      "outputs": [
        {
          "output_type": "stream",
          "name": "stdout",
          "text": [
            "[1, 2, 4, 9]\n",
            "[2, 4, 9]\n",
            "1\n",
            "2\n",
            "4\n",
            "9\n",
            "asad\n",
            "8\n",
            "18\n",
            "8\n",
            "16\n",
            "36\n"
          ]
        }
      ]
    },
    {
      "cell_type": "code",
      "source": [
        "a = [1,3,5,60]\n",
        "b = [i for i in a]\n",
        "b"
      ],
      "metadata": {
        "colab": {
          "base_uri": "https://localhost:8080/"
        },
        "id": "LvEKVdQzA_w4",
        "outputId": "19d60502-df47-4bbc-ed6d-19a3df2014d6"
      },
      "execution_count": null,
      "outputs": [
        {
          "output_type": "execute_result",
          "data": {
            "text/plain": [
              "[1, 3, 5, 60]"
            ]
          },
          "metadata": {},
          "execution_count": 73
        }
      ]
    },
    {
      "cell_type": "code",
      "source": [
        "import numpy as np\n",
        "k= np.random.randn(100)\n",
        "print(k)"
      ],
      "metadata": {
        "id": "awO9CObRBTkl",
        "colab": {
          "base_uri": "https://localhost:8080/"
        },
        "outputId": "5d835b9c-8d89-4344-c38e-18dacd58af6a"
      },
      "execution_count": null,
      "outputs": [
        {
          "output_type": "stream",
          "name": "stdout",
          "text": [
            "[-0.1446617  -1.07654502 -0.40874539 -1.00166442 -1.50199537  1.25985075\n",
            "  0.59322484  1.64718913 -1.03335762  2.90023039 -1.49505397  0.5696534\n",
            "  0.34602442  0.42310102 -0.1648853  -0.22835443  0.93421658  0.92511542\n",
            "  0.17051528 -0.49724949 -0.1400815  -2.42328074 -0.26069606 -0.98968938\n",
            "  0.33893713 -0.07223237 -1.21289941 -0.04513945  0.36989843  1.24807266\n",
            "  0.62333641  1.17604204 -0.5398548   1.48452364  0.2307005  -0.11924495\n",
            " -0.91949625 -0.54311871  0.42622181  0.20289968  0.69516539 -0.58418097\n",
            " -1.82453955 -1.05889792 -1.2970433   1.0658016   1.29141096 -0.51687942\n",
            " -0.99708155 -0.35457136 -0.18063901 -1.8637559  -1.73594631 -0.08558734\n",
            "  0.63013901  0.68204471 -0.39004506 -0.61646589 -0.0451377   0.72985313\n",
            "  2.11454752 -0.13259988 -0.01589503 -1.48358222 -0.13272875  1.40957176\n",
            " -0.37718473 -0.28959528 -0.52605619  0.44461303 -1.64171074  0.12608783\n",
            "  0.53745503 -0.94422406  1.64578466  0.62371347  0.33709397 -2.22947359\n",
            "  1.38428715 -0.55443792 -0.79792902  1.7710808   0.23883591 -0.10378136\n",
            " -0.91418838 -0.96697836  0.05534162  0.82536356  0.27123094  0.25266527\n",
            " -0.12240085  0.52856868 -2.24695946 -2.2731389  -0.03426556 -0.61319523\n",
            "  0.12545944  1.09620758 -0.25789475 -0.9198357 ]\n"
          ]
        }
      ]
    },
    {
      "cell_type": "code",
      "source": [
        "import matplotlib\n",
        "matplotlib.pyplot.hist(k)"
      ],
      "metadata": {
        "id": "ntsqr3HqZmKS",
        "colab": {
          "base_uri": "https://localhost:8080/",
          "height": 356
        },
        "outputId": "2ecdbdbf-f916-4039-a250-23e1d752a4a1"
      },
      "execution_count": null,
      "outputs": [
        {
          "output_type": "execute_result",
          "data": {
            "text/plain": [
              "(array([ 4.,  7., 13., 14., 25., 20.,  9.,  6.,  1.,  1.]),\n",
              " array([-2.42328074, -1.89092963, -1.35857852, -0.8262274 , -0.29387629,\n",
              "         0.23847482,  0.77082593,  1.30317705,  1.83552816,  2.36787927,\n",
              "         2.90023039]),\n",
              " <a list of 10 Patch objects>)"
            ]
          },
          "metadata": {},
          "execution_count": 5
        },
        {
          "output_type": "display_data",
          "data": {
            "text/plain": [
              "<Figure size 432x288 with 1 Axes>"
            ],
            "image/png": "[encoded data removed]"
          },
          "metadata": {
            "needs_background": "light"
          }
        }
      ]
    },
    {
      "cell_type": "code",
      "source": [
        "import matplotlib.pyplot as plt\n",
        "matplotlib.pyplot.hist(k)"
      ],
      "metadata": {
        "colab": {
          "base_uri": "https://localhost:8080/",
          "height": 356
        },
        "id": "RsF_PSAqLS_z",
        "outputId": "e3f6550e-35ae-41f3-8758-61a6b179b978"
      },
      "execution_count": null,
      "outputs": [
        {
          "output_type": "execute_result",
          "data": {
            "text/plain": [
              "(array([ 4.,  7., 13., 14., 25., 20.,  9.,  6.,  1.,  1.]),\n",
              " array([-2.42328074, -1.89092963, -1.35857852, -0.8262274 , -0.29387629,\n",
              "         0.23847482,  0.77082593,  1.30317705,  1.83552816,  2.36787927,\n",
              "         2.90023039]),\n",
              " <a list of 10 Patch objects>)"
            ]
          },
          "metadata": {},
          "execution_count": 6
        },
        {
          "output_type": "display_data",
          "data": {
            "text/plain": [
              "<Figure size 432x288 with 1 Axes>"
            ],
            "image/png": "[encoded data removed]"
          },
          "metadata": {
            "needs_background": "light"
          }
        }
      ]
    },
    {
      "cell_type": "code",
      "source": [
        "k = np.array([1,2,3])\n",
        "print(k)\n",
        "print(type(k))\n",
        "print(k.shape)"
      ],
      "metadata": {
        "colab": {
          "base_uri": "https://localhost:8080/"
        },
        "id": "MfWUPEh-Lbal",
        "outputId": "46ccd626-300f-40b3-d259-06db61e764df"
      },
      "execution_count": null,
      "outputs": [
        {
          "output_type": "stream",
          "name": "stdout",
          "text": [
            "[1 2 3]\n",
            "<class 'numpy.ndarray'>\n",
            "(3,)\n"
          ]
        }
      ]
    }
  ]
}